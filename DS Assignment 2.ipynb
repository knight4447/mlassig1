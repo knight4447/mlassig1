{
 "cells": [
  {
   "cell_type": "markdown",
   "id": "e930e6ca",
   "metadata": {},
   "source": [
    "# DS Assignment 2"
   ]
  },
  {
   "cell_type": "markdown",
   "id": "fc887e1e",
   "metadata": {},
   "source": [
    "## Project 1"
   ]
  },
  {
   "cell_type": "code",
   "execution_count": 1,
   "id": "ad52ce26",
   "metadata": {},
   "outputs": [],
   "source": [
    "import pandas as pd"
   ]
  },
  {
   "cell_type": "code",
   "execution_count": 2,
   "id": "556450a2",
   "metadata": {},
   "outputs": [
    {
     "data": {
      "text/html": [
       "<div>\n",
       "<style scoped>\n",
       "    .dataframe tbody tr th:only-of-type {\n",
       "        vertical-align: middle;\n",
       "    }\n",
       "\n",
       "    .dataframe tbody tr th {\n",
       "        vertical-align: top;\n",
       "    }\n",
       "\n",
       "    .dataframe thead th {\n",
       "        text-align: right;\n",
       "    }\n",
       "</style>\n",
       "<table border=\"1\" class=\"dataframe\">\n",
       "  <thead>\n",
       "    <tr style=\"text-align: right;\">\n",
       "      <th></th>\n",
       "      <th>Loan_ID</th>\n",
       "      <th>Gender</th>\n",
       "      <th>Married</th>\n",
       "      <th>Dependents</th>\n",
       "      <th>Education</th>\n",
       "      <th>Self_Employed</th>\n",
       "      <th>ApplicantIncome</th>\n",
       "      <th>CoapplicantIncome</th>\n",
       "      <th>LoanAmount</th>\n",
       "      <th>Loan_Amount_Term</th>\n",
       "      <th>Credit_History</th>\n",
       "      <th>Property_Area</th>\n",
       "      <th>Loan_Status</th>\n",
       "    </tr>\n",
       "  </thead>\n",
       "  <tbody>\n",
       "    <tr>\n",
       "      <th>0</th>\n",
       "      <td>LP001002</td>\n",
       "      <td>Male</td>\n",
       "      <td>No</td>\n",
       "      <td>0</td>\n",
       "      <td>Graduate</td>\n",
       "      <td>No</td>\n",
       "      <td>5849</td>\n",
       "      <td>0.0</td>\n",
       "      <td>NaN</td>\n",
       "      <td>360.0</td>\n",
       "      <td>1.0</td>\n",
       "      <td>Urban</td>\n",
       "      <td>Y</td>\n",
       "    </tr>\n",
       "    <tr>\n",
       "      <th>1</th>\n",
       "      <td>LP001003</td>\n",
       "      <td>Male</td>\n",
       "      <td>Yes</td>\n",
       "      <td>1</td>\n",
       "      <td>Graduate</td>\n",
       "      <td>No</td>\n",
       "      <td>4583</td>\n",
       "      <td>1508.0</td>\n",
       "      <td>128.0</td>\n",
       "      <td>360.0</td>\n",
       "      <td>1.0</td>\n",
       "      <td>Rural</td>\n",
       "      <td>N</td>\n",
       "    </tr>\n",
       "    <tr>\n",
       "      <th>2</th>\n",
       "      <td>LP001005</td>\n",
       "      <td>Male</td>\n",
       "      <td>Yes</td>\n",
       "      <td>0</td>\n",
       "      <td>Graduate</td>\n",
       "      <td>Yes</td>\n",
       "      <td>3000</td>\n",
       "      <td>0.0</td>\n",
       "      <td>66.0</td>\n",
       "      <td>360.0</td>\n",
       "      <td>1.0</td>\n",
       "      <td>Urban</td>\n",
       "      <td>Y</td>\n",
       "    </tr>\n",
       "    <tr>\n",
       "      <th>3</th>\n",
       "      <td>LP001006</td>\n",
       "      <td>Male</td>\n",
       "      <td>Yes</td>\n",
       "      <td>0</td>\n",
       "      <td>Not Graduate</td>\n",
       "      <td>No</td>\n",
       "      <td>2583</td>\n",
       "      <td>2358.0</td>\n",
       "      <td>120.0</td>\n",
       "      <td>360.0</td>\n",
       "      <td>1.0</td>\n",
       "      <td>Urban</td>\n",
       "      <td>Y</td>\n",
       "    </tr>\n",
       "    <tr>\n",
       "      <th>4</th>\n",
       "      <td>LP001008</td>\n",
       "      <td>Male</td>\n",
       "      <td>No</td>\n",
       "      <td>0</td>\n",
       "      <td>Graduate</td>\n",
       "      <td>No</td>\n",
       "      <td>6000</td>\n",
       "      <td>0.0</td>\n",
       "      <td>141.0</td>\n",
       "      <td>360.0</td>\n",
       "      <td>1.0</td>\n",
       "      <td>Urban</td>\n",
       "      <td>Y</td>\n",
       "    </tr>\n",
       "    <tr>\n",
       "      <th>...</th>\n",
       "      <td>...</td>\n",
       "      <td>...</td>\n",
       "      <td>...</td>\n",
       "      <td>...</td>\n",
       "      <td>...</td>\n",
       "      <td>...</td>\n",
       "      <td>...</td>\n",
       "      <td>...</td>\n",
       "      <td>...</td>\n",
       "      <td>...</td>\n",
       "      <td>...</td>\n",
       "      <td>...</td>\n",
       "      <td>...</td>\n",
       "    </tr>\n",
       "    <tr>\n",
       "      <th>609</th>\n",
       "      <td>LP002978</td>\n",
       "      <td>Female</td>\n",
       "      <td>No</td>\n",
       "      <td>0</td>\n",
       "      <td>Graduate</td>\n",
       "      <td>No</td>\n",
       "      <td>2900</td>\n",
       "      <td>0.0</td>\n",
       "      <td>71.0</td>\n",
       "      <td>360.0</td>\n",
       "      <td>1.0</td>\n",
       "      <td>Rural</td>\n",
       "      <td>Y</td>\n",
       "    </tr>\n",
       "    <tr>\n",
       "      <th>610</th>\n",
       "      <td>LP002979</td>\n",
       "      <td>Male</td>\n",
       "      <td>Yes</td>\n",
       "      <td>3+</td>\n",
       "      <td>Graduate</td>\n",
       "      <td>No</td>\n",
       "      <td>4106</td>\n",
       "      <td>0.0</td>\n",
       "      <td>40.0</td>\n",
       "      <td>180.0</td>\n",
       "      <td>1.0</td>\n",
       "      <td>Rural</td>\n",
       "      <td>Y</td>\n",
       "    </tr>\n",
       "    <tr>\n",
       "      <th>611</th>\n",
       "      <td>LP002983</td>\n",
       "      <td>Male</td>\n",
       "      <td>Yes</td>\n",
       "      <td>1</td>\n",
       "      <td>Graduate</td>\n",
       "      <td>No</td>\n",
       "      <td>8072</td>\n",
       "      <td>240.0</td>\n",
       "      <td>253.0</td>\n",
       "      <td>360.0</td>\n",
       "      <td>1.0</td>\n",
       "      <td>Urban</td>\n",
       "      <td>Y</td>\n",
       "    </tr>\n",
       "    <tr>\n",
       "      <th>612</th>\n",
       "      <td>LP002984</td>\n",
       "      <td>Male</td>\n",
       "      <td>Yes</td>\n",
       "      <td>2</td>\n",
       "      <td>Graduate</td>\n",
       "      <td>No</td>\n",
       "      <td>7583</td>\n",
       "      <td>0.0</td>\n",
       "      <td>187.0</td>\n",
       "      <td>360.0</td>\n",
       "      <td>1.0</td>\n",
       "      <td>Urban</td>\n",
       "      <td>Y</td>\n",
       "    </tr>\n",
       "    <tr>\n",
       "      <th>613</th>\n",
       "      <td>LP002990</td>\n",
       "      <td>Female</td>\n",
       "      <td>No</td>\n",
       "      <td>0</td>\n",
       "      <td>Graduate</td>\n",
       "      <td>Yes</td>\n",
       "      <td>4583</td>\n",
       "      <td>0.0</td>\n",
       "      <td>133.0</td>\n",
       "      <td>360.0</td>\n",
       "      <td>0.0</td>\n",
       "      <td>Semiurban</td>\n",
       "      <td>N</td>\n",
       "    </tr>\n",
       "  </tbody>\n",
       "</table>\n",
       "<p>614 rows × 13 columns</p>\n",
       "</div>"
      ],
      "text/plain": [
       "      Loan_ID  Gender Married Dependents     Education Self_Employed  \\\n",
       "0    LP001002    Male      No          0      Graduate            No   \n",
       "1    LP001003    Male     Yes          1      Graduate            No   \n",
       "2    LP001005    Male     Yes          0      Graduate           Yes   \n",
       "3    LP001006    Male     Yes          0  Not Graduate            No   \n",
       "4    LP001008    Male      No          0      Graduate            No   \n",
       "..        ...     ...     ...        ...           ...           ...   \n",
       "609  LP002978  Female      No          0      Graduate            No   \n",
       "610  LP002979    Male     Yes         3+      Graduate            No   \n",
       "611  LP002983    Male     Yes          1      Graduate            No   \n",
       "612  LP002984    Male     Yes          2      Graduate            No   \n",
       "613  LP002990  Female      No          0      Graduate           Yes   \n",
       "\n",
       "     ApplicantIncome  CoapplicantIncome  LoanAmount  Loan_Amount_Term  \\\n",
       "0               5849                0.0         NaN             360.0   \n",
       "1               4583             1508.0       128.0             360.0   \n",
       "2               3000                0.0        66.0             360.0   \n",
       "3               2583             2358.0       120.0             360.0   \n",
       "4               6000                0.0       141.0             360.0   \n",
       "..               ...                ...         ...               ...   \n",
       "609             2900                0.0        71.0             360.0   \n",
       "610             4106                0.0        40.0             180.0   \n",
       "611             8072              240.0       253.0             360.0   \n",
       "612             7583                0.0       187.0             360.0   \n",
       "613             4583                0.0       133.0             360.0   \n",
       "\n",
       "     Credit_History Property_Area Loan_Status  \n",
       "0               1.0         Urban           Y  \n",
       "1               1.0         Rural           N  \n",
       "2               1.0         Urban           Y  \n",
       "3               1.0         Urban           Y  \n",
       "4               1.0         Urban           Y  \n",
       "..              ...           ...         ...  \n",
       "609             1.0         Rural           Y  \n",
       "610             1.0         Rural           Y  \n",
       "611             1.0         Urban           Y  \n",
       "612             1.0         Urban           Y  \n",
       "613             0.0     Semiurban           N  \n",
       "\n",
       "[614 rows x 13 columns]"
      ]
     },
     "execution_count": 2,
     "metadata": {},
     "output_type": "execute_result"
    }
   ],
   "source": [
    "df = pd.read_csv(\"C:/Users/acer/Downloads/loan (1).csv\")\n",
    "df"
   ]
  },
  {
   "cell_type": "code",
   "execution_count": 3,
   "id": "7a337811",
   "metadata": {},
   "outputs": [
    {
     "name": "stdout",
     "output_type": "stream",
     "text": [
      "<class 'pandas.core.frame.DataFrame'>\n",
      "RangeIndex: 614 entries, 0 to 613\n",
      "Data columns (total 13 columns):\n",
      " #   Column             Non-Null Count  Dtype  \n",
      "---  ------             --------------  -----  \n",
      " 0   Loan_ID            614 non-null    object \n",
      " 1   Gender             601 non-null    object \n",
      " 2   Married            611 non-null    object \n",
      " 3   Dependents         599 non-null    object \n",
      " 4   Education          614 non-null    object \n",
      " 5   Self_Employed      582 non-null    object \n",
      " 6   ApplicantIncome    614 non-null    int64  \n",
      " 7   CoapplicantIncome  614 non-null    float64\n",
      " 8   LoanAmount         592 non-null    float64\n",
      " 9   Loan_Amount_Term   600 non-null    float64\n",
      " 10  Credit_History     564 non-null    float64\n",
      " 11  Property_Area      614 non-null    object \n",
      " 12  Loan_Status        614 non-null    object \n",
      "dtypes: float64(4), int64(1), object(8)\n",
      "memory usage: 62.5+ KB\n"
     ]
    }
   ],
   "source": [
    "df.info()"
   ]
  },
  {
   "cell_type": "code",
   "execution_count": null,
   "id": "be473805",
   "metadata": {},
   "outputs": [],
   "source": []
  },
  {
   "cell_type": "code",
   "execution_count": 4,
   "id": "055dfee7",
   "metadata": {},
   "outputs": [
    {
     "data": {
      "text/plain": [
       "{'0', '1', '2', '3+', nan}"
      ]
     },
     "execution_count": 4,
     "metadata": {},
     "output_type": "execute_result"
    }
   ],
   "source": [
    "set(df['Dependents'])"
   ]
  },
  {
   "cell_type": "code",
   "execution_count": 5,
   "id": "f68398e8",
   "metadata": {},
   "outputs": [],
   "source": [
    "\n",
    "df['Dependents'] = df['Dependents'].replace('3+','3')\n"
   ]
  },
  {
   "cell_type": "code",
   "execution_count": null,
   "id": "80708ca1",
   "metadata": {},
   "outputs": [],
   "source": []
  },
  {
   "cell_type": "code",
   "execution_count": 6,
   "id": "0faa3b0d",
   "metadata": {},
   "outputs": [
    {
     "data": {
      "text/plain": [
       "{'Female', 'Male', nan}"
      ]
     },
     "execution_count": 6,
     "metadata": {},
     "output_type": "execute_result"
    }
   ],
   "source": [
    "set(df['Gender'])"
   ]
  },
  {
   "cell_type": "code",
   "execution_count": 7,
   "id": "ae9639f1",
   "metadata": {},
   "outputs": [
    {
     "data": {
      "text/plain": [
       "0      1\n",
       "1      1\n",
       "2      1\n",
       "3      1\n",
       "4      1\n",
       "      ..\n",
       "609    0\n",
       "610    1\n",
       "611    1\n",
       "612    1\n",
       "613    0\n",
       "Name: Gender, Length: 614, dtype: int32"
      ]
     },
     "execution_count": 7,
     "metadata": {},
     "output_type": "execute_result"
    }
   ],
   "source": [
    "from sklearn.preprocessing import LabelEncoder\n",
    "le = LabelEncoder()\n",
    "df['Gender'] = le.fit_transform(df['Gender'])\n",
    "df['Gender']"
   ]
  },
  {
   "cell_type": "code",
   "execution_count": 8,
   "id": "1c103505",
   "metadata": {},
   "outputs": [
    {
     "data": {
      "text/plain": [
       "{'No', 'Yes', nan}"
      ]
     },
     "execution_count": 8,
     "metadata": {},
     "output_type": "execute_result"
    }
   ],
   "source": [
    "set(df['Married'])"
   ]
  },
  {
   "cell_type": "code",
   "execution_count": 9,
   "id": "18cc8584",
   "metadata": {},
   "outputs": [],
   "source": [
    "df['Married'] = df['Married'].replace('nan','No')"
   ]
  },
  {
   "cell_type": "code",
   "execution_count": 10,
   "id": "5deaf419",
   "metadata": {},
   "outputs": [
    {
     "data": {
      "text/plain": [
       "0      0\n",
       "1      1\n",
       "2      1\n",
       "3      1\n",
       "4      0\n",
       "      ..\n",
       "609    0\n",
       "610    1\n",
       "611    1\n",
       "612    1\n",
       "613    0\n",
       "Name: Married, Length: 614, dtype: int32"
      ]
     },
     "execution_count": 10,
     "metadata": {},
     "output_type": "execute_result"
    }
   ],
   "source": [
    "le = LabelEncoder()\n",
    "df['Married'] = le.fit_transform(df['Married'])\n",
    "df['Married']"
   ]
  },
  {
   "cell_type": "code",
   "execution_count": 11,
   "id": "e454e239",
   "metadata": {},
   "outputs": [
    {
     "data": {
      "text/plain": [
       "{'Graduate', 'Not Graduate'}"
      ]
     },
     "execution_count": 11,
     "metadata": {},
     "output_type": "execute_result"
    }
   ],
   "source": [
    "set(df['Education'])"
   ]
  },
  {
   "cell_type": "code",
   "execution_count": 12,
   "id": "62b1b8f3",
   "metadata": {},
   "outputs": [
    {
     "data": {
      "text/plain": [
       "0      0\n",
       "1      0\n",
       "2      0\n",
       "3      1\n",
       "4      0\n",
       "      ..\n",
       "609    0\n",
       "610    0\n",
       "611    0\n",
       "612    0\n",
       "613    0\n",
       "Name: Education, Length: 614, dtype: int32"
      ]
     },
     "execution_count": 12,
     "metadata": {},
     "output_type": "execute_result"
    }
   ],
   "source": [
    "le = LabelEncoder()\n",
    "df['Education'] = le.fit_transform(df['Education'])\n",
    "df['Education']"
   ]
  },
  {
   "cell_type": "code",
   "execution_count": 13,
   "id": "8cef447d",
   "metadata": {},
   "outputs": [
    {
     "data": {
      "text/plain": [
       "{'No', 'Yes', nan}"
      ]
     },
     "execution_count": 13,
     "metadata": {},
     "output_type": "execute_result"
    }
   ],
   "source": [
    "set(df['Self_Employed'])"
   ]
  },
  {
   "cell_type": "code",
   "execution_count": 14,
   "id": "7252c8b5",
   "metadata": {},
   "outputs": [],
   "source": [
    "df['Self_Employed'] = df['Self_Employed'].replace('nan','No')"
   ]
  },
  {
   "cell_type": "code",
   "execution_count": 15,
   "id": "58ae54d6",
   "metadata": {},
   "outputs": [
    {
     "data": {
      "text/plain": [
       "0      0\n",
       "1      0\n",
       "2      1\n",
       "3      0\n",
       "4      0\n",
       "      ..\n",
       "609    0\n",
       "610    0\n",
       "611    0\n",
       "612    0\n",
       "613    1\n",
       "Name: Self_Employed, Length: 614, dtype: int32"
      ]
     },
     "execution_count": 15,
     "metadata": {},
     "output_type": "execute_result"
    }
   ],
   "source": [
    "df['Self_Employed'] = le.fit_transform(df['Self_Employed'])\n",
    "df['Self_Employed']"
   ]
  },
  {
   "cell_type": "code",
   "execution_count": 16,
   "id": "4a433e92",
   "metadata": {},
   "outputs": [
    {
     "data": {
      "text/plain": [
       "{'Rural', 'Semiurban', 'Urban'}"
      ]
     },
     "execution_count": 16,
     "metadata": {},
     "output_type": "execute_result"
    }
   ],
   "source": [
    "set(df['Property_Area'])"
   ]
  },
  {
   "cell_type": "code",
   "execution_count": 17,
   "id": "56b6cd29",
   "metadata": {},
   "outputs": [
    {
     "data": {
      "text/plain": [
       "0      2\n",
       "1      0\n",
       "2      2\n",
       "3      2\n",
       "4      2\n",
       "      ..\n",
       "609    0\n",
       "610    0\n",
       "611    2\n",
       "612    2\n",
       "613    1\n",
       "Name: Property_Area, Length: 614, dtype: int32"
      ]
     },
     "execution_count": 17,
     "metadata": {},
     "output_type": "execute_result"
    }
   ],
   "source": [
    "df['Property_Area'] = le.fit_transform(df['Property_Area'])\n",
    "df['Property_Area']"
   ]
  },
  {
   "cell_type": "code",
   "execution_count": 18,
   "id": "2d9507aa",
   "metadata": {},
   "outputs": [
    {
     "data": {
      "text/plain": [
       "{'N', 'Y'}"
      ]
     },
     "execution_count": 18,
     "metadata": {},
     "output_type": "execute_result"
    }
   ],
   "source": [
    "set(df['Loan_Status'])"
   ]
  },
  {
   "cell_type": "code",
   "execution_count": 19,
   "id": "610acd4c",
   "metadata": {},
   "outputs": [
    {
     "data": {
      "text/plain": [
       "0      1\n",
       "1      0\n",
       "2      1\n",
       "3      1\n",
       "4      1\n",
       "      ..\n",
       "609    1\n",
       "610    1\n",
       "611    1\n",
       "612    1\n",
       "613    0\n",
       "Name: Loan_Status, Length: 614, dtype: int32"
      ]
     },
     "execution_count": 19,
     "metadata": {},
     "output_type": "execute_result"
    }
   ],
   "source": [
    "df['Loan_Status'] = le.fit_transform(df['Loan_Status'])\n",
    "df['Loan_Status']"
   ]
  },
  {
   "cell_type": "code",
   "execution_count": 20,
   "id": "b632f272",
   "metadata": {},
   "outputs": [
    {
     "name": "stdout",
     "output_type": "stream",
     "text": [
      "Loan_ID               0\n",
      "Gender                0\n",
      "Married               0\n",
      "Dependents           15\n",
      "Education             0\n",
      "Self_Employed         0\n",
      "ApplicantIncome       0\n",
      "CoapplicantIncome     0\n",
      "LoanAmount           22\n",
      "Loan_Amount_Term     14\n",
      "Credit_History       50\n",
      "Property_Area         0\n",
      "Loan_Status           0\n",
      "dtype: int64\n"
     ]
    }
   ],
   "source": [
    "null_values = df.isnull()\n",
    "\n",
    "\n",
    "num_null_values = null_values.sum()\n",
    "\n",
    "\n",
    "print(num_null_values)"
   ]
  },
  {
   "cell_type": "code",
   "execution_count": 21,
   "id": "0ec0998f",
   "metadata": {},
   "outputs": [
    {
     "name": "stdout",
     "output_type": "stream",
     "text": [
      "<class 'pandas.core.frame.DataFrame'>\n",
      "RangeIndex: 614 entries, 0 to 613\n",
      "Data columns (total 13 columns):\n",
      " #   Column             Non-Null Count  Dtype  \n",
      "---  ------             --------------  -----  \n",
      " 0   Loan_ID            614 non-null    object \n",
      " 1   Gender             614 non-null    int32  \n",
      " 2   Married            614 non-null    int32  \n",
      " 3   Dependents         614 non-null    object \n",
      " 4   Education          614 non-null    int32  \n",
      " 5   Self_Employed      614 non-null    int32  \n",
      " 6   ApplicantIncome    614 non-null    int64  \n",
      " 7   CoapplicantIncome  614 non-null    float64\n",
      " 8   LoanAmount         592 non-null    float64\n",
      " 9   Loan_Amount_Term   600 non-null    float64\n",
      " 10  Credit_History     564 non-null    float64\n",
      " 11  Property_Area      614 non-null    int32  \n",
      " 12  Loan_Status        614 non-null    int32  \n",
      "dtypes: float64(4), int32(6), int64(1), object(2)\n",
      "memory usage: 48.1+ KB\n"
     ]
    }
   ],
   "source": [
    "df['Dependents'] = df['Dependents'].fillna(0)\n",
    "df.info()"
   ]
  },
  {
   "cell_type": "code",
   "execution_count": 22,
   "id": "9a4f4624",
   "metadata": {},
   "outputs": [
    {
     "name": "stdout",
     "output_type": "stream",
     "text": [
      "<class 'pandas.core.frame.DataFrame'>\n",
      "RangeIndex: 614 entries, 0 to 613\n",
      "Data columns (total 13 columns):\n",
      " #   Column             Non-Null Count  Dtype  \n",
      "---  ------             --------------  -----  \n",
      " 0   Loan_ID            614 non-null    object \n",
      " 1   Gender             614 non-null    int32  \n",
      " 2   Married            614 non-null    int32  \n",
      " 3   Dependents         614 non-null    object \n",
      " 4   Education          614 non-null    int32  \n",
      " 5   Self_Employed      614 non-null    int32  \n",
      " 6   ApplicantIncome    614 non-null    int64  \n",
      " 7   CoapplicantIncome  614 non-null    float64\n",
      " 8   LoanAmount         614 non-null    float64\n",
      " 9   Loan_Amount_Term   600 non-null    float64\n",
      " 10  Credit_History     564 non-null    float64\n",
      " 11  Property_Area      614 non-null    int32  \n",
      " 12  Loan_Status        614 non-null    int32  \n",
      "dtypes: float64(4), int32(6), int64(1), object(2)\n",
      "memory usage: 48.1+ KB\n"
     ]
    }
   ],
   "source": [
    "df['LoanAmount'] = df['LoanAmount'].fillna(df['LoanAmount'].mean())\n",
    "df.info()"
   ]
  },
  {
   "cell_type": "code",
   "execution_count": 23,
   "id": "d25b40c2",
   "metadata": {},
   "outputs": [
    {
     "data": {
      "text/plain": [
       "{nan,\n",
       " nan,\n",
       " nan,\n",
       " nan,\n",
       " nan,\n",
       " nan,\n",
       " nan,\n",
       " nan,\n",
       " nan,\n",
       " nan,\n",
       " nan,\n",
       " nan,\n",
       " nan,\n",
       " nan,\n",
       " 12.0,\n",
       " 36.0,\n",
       " 60.0,\n",
       " 84.0,\n",
       " 120.0,\n",
       " 180.0,\n",
       " 240.0,\n",
       " 300.0,\n",
       " 360.0,\n",
       " 480.0}"
      ]
     },
     "execution_count": 23,
     "metadata": {},
     "output_type": "execute_result"
    }
   ],
   "source": [
    "set(df['Loan_Amount_Term'])"
   ]
  },
  {
   "cell_type": "code",
   "execution_count": 24,
   "id": "528a85d6",
   "metadata": {
    "scrolled": true
   },
   "outputs": [
    {
     "name": "stdout",
     "output_type": "stream",
     "text": [
      "<class 'pandas.core.frame.DataFrame'>\n",
      "RangeIndex: 614 entries, 0 to 613\n",
      "Data columns (total 13 columns):\n",
      " #   Column             Non-Null Count  Dtype  \n",
      "---  ------             --------------  -----  \n",
      " 0   Loan_ID            614 non-null    object \n",
      " 1   Gender             614 non-null    int32  \n",
      " 2   Married            614 non-null    int32  \n",
      " 3   Dependents         614 non-null    object \n",
      " 4   Education          614 non-null    int32  \n",
      " 5   Self_Employed      614 non-null    int32  \n",
      " 6   ApplicantIncome    614 non-null    int64  \n",
      " 7   CoapplicantIncome  614 non-null    float64\n",
      " 8   LoanAmount         614 non-null    float64\n",
      " 9   Loan_Amount_Term   614 non-null    float64\n",
      " 10  Credit_History     564 non-null    float64\n",
      " 11  Property_Area      614 non-null    int32  \n",
      " 12  Loan_Status        614 non-null    int32  \n",
      "dtypes: float64(4), int32(6), int64(1), object(2)\n",
      "memory usage: 48.1+ KB\n"
     ]
    }
   ],
   "source": [
    "df['Loan_Amount_Term'] = df['Loan_Amount_Term'].fillna(df['Loan_Amount_Term'].median())\n",
    "df.info()"
   ]
  },
  {
   "cell_type": "code",
   "execution_count": 25,
   "id": "d0a15693",
   "metadata": {},
   "outputs": [
    {
     "data": {
      "text/plain": [
       "{0.0,\n",
       " 1.0,\n",
       " nan,\n",
       " nan,\n",
       " nan,\n",
       " nan,\n",
       " nan,\n",
       " nan,\n",
       " nan,\n",
       " nan,\n",
       " nan,\n",
       " nan,\n",
       " nan,\n",
       " nan,\n",
       " nan,\n",
       " nan,\n",
       " nan,\n",
       " nan,\n",
       " nan,\n",
       " nan,\n",
       " nan,\n",
       " nan,\n",
       " nan,\n",
       " nan,\n",
       " nan,\n",
       " nan,\n",
       " nan,\n",
       " nan,\n",
       " nan,\n",
       " nan,\n",
       " nan,\n",
       " nan,\n",
       " nan,\n",
       " nan,\n",
       " nan,\n",
       " nan,\n",
       " nan,\n",
       " nan,\n",
       " nan,\n",
       " nan,\n",
       " nan,\n",
       " nan,\n",
       " nan,\n",
       " nan,\n",
       " nan,\n",
       " nan,\n",
       " nan,\n",
       " nan,\n",
       " nan,\n",
       " nan,\n",
       " nan,\n",
       " nan}"
      ]
     },
     "execution_count": 25,
     "metadata": {},
     "output_type": "execute_result"
    }
   ],
   "source": [
    "set(df['Credit_History'])"
   ]
  },
  {
   "cell_type": "code",
   "execution_count": 26,
   "id": "88c2f50d",
   "metadata": {},
   "outputs": [
    {
     "name": "stdout",
     "output_type": "stream",
     "text": [
      "<class 'pandas.core.frame.DataFrame'>\n",
      "RangeIndex: 614 entries, 0 to 613\n",
      "Data columns (total 13 columns):\n",
      " #   Column             Non-Null Count  Dtype  \n",
      "---  ------             --------------  -----  \n",
      " 0   Loan_ID            614 non-null    object \n",
      " 1   Gender             614 non-null    int32  \n",
      " 2   Married            614 non-null    int32  \n",
      " 3   Dependents         614 non-null    object \n",
      " 4   Education          614 non-null    int32  \n",
      " 5   Self_Employed      614 non-null    int32  \n",
      " 6   ApplicantIncome    614 non-null    int64  \n",
      " 7   CoapplicantIncome  614 non-null    float64\n",
      " 8   LoanAmount         614 non-null    float64\n",
      " 9   Loan_Amount_Term   614 non-null    float64\n",
      " 10  Credit_History     614 non-null    float64\n",
      " 11  Property_Area      614 non-null    int32  \n",
      " 12  Loan_Status        614 non-null    int32  \n",
      "dtypes: float64(4), int32(6), int64(1), object(2)\n",
      "memory usage: 48.1+ KB\n"
     ]
    }
   ],
   "source": [
    "df['Credit_History'] = df['Credit_History'].fillna(0)\n",
    "df.info()"
   ]
  },
  {
   "cell_type": "code",
   "execution_count": 27,
   "id": "2fbc2f36",
   "metadata": {},
   "outputs": [],
   "source": [
    "df = df.drop('Loan_ID',axis = 1)"
   ]
  },
  {
   "cell_type": "code",
   "execution_count": 28,
   "id": "cceb44ac",
   "metadata": {},
   "outputs": [],
   "source": [
    "non_float_cols = df.select_dtypes(include=['object']).columns\n",
    "df[non_float_cols] = df[non_float_cols].astype(float)\n"
   ]
  },
  {
   "cell_type": "code",
   "execution_count": 29,
   "id": "f735b942",
   "metadata": {},
   "outputs": [
    {
     "name": "stdout",
     "output_type": "stream",
     "text": [
      "<class 'pandas.core.frame.DataFrame'>\n",
      "RangeIndex: 614 entries, 0 to 613\n",
      "Data columns (total 12 columns):\n",
      " #   Column             Non-Null Count  Dtype  \n",
      "---  ------             --------------  -----  \n",
      " 0   Gender             614 non-null    int32  \n",
      " 1   Married            614 non-null    int32  \n",
      " 2   Dependents         614 non-null    float64\n",
      " 3   Education          614 non-null    int32  \n",
      " 4   Self_Employed      614 non-null    int32  \n",
      " 5   ApplicantIncome    614 non-null    int64  \n",
      " 6   CoapplicantIncome  614 non-null    float64\n",
      " 7   LoanAmount         614 non-null    float64\n",
      " 8   Loan_Amount_Term   614 non-null    float64\n",
      " 9   Credit_History     614 non-null    float64\n",
      " 10  Property_Area      614 non-null    int32  \n",
      " 11  Loan_Status        614 non-null    int32  \n",
      "dtypes: float64(5), int32(6), int64(1)\n",
      "memory usage: 43.3 KB\n"
     ]
    }
   ],
   "source": [
    "df.info()"
   ]
  },
  {
   "cell_type": "markdown",
   "id": "bba7d4bc",
   "metadata": {},
   "source": [
    "### logistic Regression"
   ]
  },
  {
   "cell_type": "code",
   "execution_count": 30,
   "id": "71788941",
   "metadata": {},
   "outputs": [
    {
     "name": "stdout",
     "output_type": "stream",
     "text": [
      "Accuracy: 81.30081300813008\n"
     ]
    }
   ],
   "source": [
    "from sklearn.linear_model import LogisticRegression\n",
    "from sklearn.model_selection import train_test_split\n",
    "from sklearn.metrics import accuracy_score\n",
    "x = df.drop('Loan_Status', axis=1)\n",
    "y = df['Loan_Status']\n",
    "x_train, x_test, y_train, y_test = train_test_split(x, y, test_size=0.2, random_state=40)\n",
    "lr = LogisticRegression()\n",
    "lr.fit(x_train, y_train)\n",
    "y_pred = lr.predict(x_test)\n",
    "accuracy = accuracy_score(y_test, y_pred)\n",
    "print(\"Accuracy:\", accuracy*100)"
   ]
  },
  {
   "cell_type": "markdown",
   "id": "07cefb61",
   "metadata": {},
   "source": [
    "### SVM"
   ]
  },
  {
   "cell_type": "code",
   "execution_count": 31,
   "id": "20bc3c33",
   "metadata": {},
   "outputs": [
    {
     "name": "stdout",
     "output_type": "stream",
     "text": [
      "Accuracy: 81.30081300813008\n"
     ]
    }
   ],
   "source": [
    "from sklearn import svm\n",
    "model = svm.SVC(kernel='linear')\n",
    "model.fit(x_train, y_train)\n",
    "y_pred = model.predict(x_test)\n",
    "acc = accuracy_score(y_test, y_pred)\n",
    "print(\"Accuracy:\", acc*100)"
   ]
  },
  {
   "cell_type": "markdown",
   "id": "653bb55f",
   "metadata": {},
   "source": [
    "### Decision Tree"
   ]
  },
  {
   "cell_type": "code",
   "execution_count": 32,
   "id": "e7e82e1e",
   "metadata": {},
   "outputs": [
    {
     "name": "stdout",
     "output_type": "stream",
     "text": [
      "Accuracy: 73.51351351351352\n"
     ]
    }
   ],
   "source": [
    "from sklearn import tree\n",
    "x = df.drop('Loan_Status', axis=1)\n",
    "y = df['Loan_Status']\n",
    "x_train, x_test, y_train, y_test = train_test_split(x, y, test_size=0.3, random_state=40)\n",
    "dt = tree.DecisionTreeClassifier()\n",
    "dt.fit(x_train, y_train)\n",
    "y_pred = dt.predict(x_test)\n",
    "accu = accuracy_score(y_test, y_pred)\n",
    "print(\"Accuracy:\", accu*100)"
   ]
  },
  {
   "cell_type": "markdown",
   "id": "06dcbbaa",
   "metadata": {},
   "source": [
    "### RandomForest"
   ]
  },
  {
   "cell_type": "code",
   "execution_count": 33,
   "id": "125585c3",
   "metadata": {},
   "outputs": [
    {
     "name": "stdout",
     "output_type": "stream",
     "text": [
      "Accuracy: 78.04878048780488\n"
     ]
    }
   ],
   "source": [
    "from sklearn.ensemble import RandomForestClassifier\n",
    "rfc = RandomForestClassifier(n_estimators=100)\n",
    "x = df.drop('Loan_Status', axis=1)\n",
    "y = df['Loan_Status']\n",
    "x_train, x_test, y_train, y_test = train_test_split(x, y, test_size=0.2, random_state=40)\n",
    "rfc.fit(x_train, y_train)\n",
    "y_pred = rfc.predict(x_test)\n",
    "accu = accuracy_score(y_test, y_pred)\n",
    "print(\"Accuracy:\", accu*100)"
   ]
  },
  {
   "cell_type": "markdown",
   "id": "bb5c91ad",
   "metadata": {},
   "source": [
    "## Project 2"
   ]
  },
  {
   "cell_type": "code",
   "execution_count": 85,
   "id": "5179748c",
   "metadata": {
    "scrolled": true
   },
   "outputs": [
    {
     "data": {
      "text/html": [
       "<div>\n",
       "<style scoped>\n",
       "    .dataframe tbody tr th:only-of-type {\n",
       "        vertical-align: middle;\n",
       "    }\n",
       "\n",
       "    .dataframe tbody tr th {\n",
       "        vertical-align: top;\n",
       "    }\n",
       "\n",
       "    .dataframe thead th {\n",
       "        text-align: right;\n",
       "    }\n",
       "</style>\n",
       "<table border=\"1\" class=\"dataframe\">\n",
       "  <thead>\n",
       "    <tr style=\"text-align: right;\">\n",
       "      <th></th>\n",
       "      <th>id</th>\n",
       "      <th>name</th>\n",
       "      <th>full_name</th>\n",
       "      <th>birth_date</th>\n",
       "      <th>age</th>\n",
       "      <th>height_cm</th>\n",
       "      <th>weight_kgs</th>\n",
       "      <th>positions</th>\n",
       "      <th>nationality</th>\n",
       "      <th>overall_rating</th>\n",
       "      <th>...</th>\n",
       "      <th>LWB</th>\n",
       "      <th>LDM</th>\n",
       "      <th>CDM</th>\n",
       "      <th>RDM</th>\n",
       "      <th>RWB</th>\n",
       "      <th>LB</th>\n",
       "      <th>LCB</th>\n",
       "      <th>CB</th>\n",
       "      <th>RCB</th>\n",
       "      <th>RB</th>\n",
       "    </tr>\n",
       "  </thead>\n",
       "  <tbody>\n",
       "    <tr>\n",
       "      <th>0</th>\n",
       "      <td>158023</td>\n",
       "      <td>L. Messi</td>\n",
       "      <td>Lionel Andrés Messi Cuccittini</td>\n",
       "      <td>1987-06-24</td>\n",
       "      <td>31</td>\n",
       "      <td>170.18</td>\n",
       "      <td>72.1</td>\n",
       "      <td>CF,RW,ST</td>\n",
       "      <td>Argentina</td>\n",
       "      <td>94</td>\n",
       "      <td>...</td>\n",
       "      <td>64+2</td>\n",
       "      <td>61+2</td>\n",
       "      <td>61+2</td>\n",
       "      <td>61+2</td>\n",
       "      <td>64+2</td>\n",
       "      <td>59+2</td>\n",
       "      <td>48+2</td>\n",
       "      <td>48+2</td>\n",
       "      <td>48+2</td>\n",
       "      <td>59+2</td>\n",
       "    </tr>\n",
       "    <tr>\n",
       "      <th>1</th>\n",
       "      <td>190460</td>\n",
       "      <td>C. Eriksen</td>\n",
       "      <td>Christian  Dannemann Eriksen</td>\n",
       "      <td>1992-02-14</td>\n",
       "      <td>27</td>\n",
       "      <td>154.94</td>\n",
       "      <td>76.2</td>\n",
       "      <td>CAM,RM,CM</td>\n",
       "      <td>Denmark</td>\n",
       "      <td>88</td>\n",
       "      <td>...</td>\n",
       "      <td>71+3</td>\n",
       "      <td>71+3</td>\n",
       "      <td>71+3</td>\n",
       "      <td>71+3</td>\n",
       "      <td>71+3</td>\n",
       "      <td>66+3</td>\n",
       "      <td>57+3</td>\n",
       "      <td>57+3</td>\n",
       "      <td>57+3</td>\n",
       "      <td>66+3</td>\n",
       "    </tr>\n",
       "    <tr>\n",
       "      <th>2</th>\n",
       "      <td>195864</td>\n",
       "      <td>P. Pogba</td>\n",
       "      <td>Paul Pogba</td>\n",
       "      <td>1993-03-15</td>\n",
       "      <td>25</td>\n",
       "      <td>190.50</td>\n",
       "      <td>83.9</td>\n",
       "      <td>CM,CAM</td>\n",
       "      <td>France</td>\n",
       "      <td>88</td>\n",
       "      <td>...</td>\n",
       "      <td>76+3</td>\n",
       "      <td>77+3</td>\n",
       "      <td>77+3</td>\n",
       "      <td>77+3</td>\n",
       "      <td>76+3</td>\n",
       "      <td>74+3</td>\n",
       "      <td>72+3</td>\n",
       "      <td>72+3</td>\n",
       "      <td>72+3</td>\n",
       "      <td>74+3</td>\n",
       "    </tr>\n",
       "    <tr>\n",
       "      <th>3</th>\n",
       "      <td>198219</td>\n",
       "      <td>L. Insigne</td>\n",
       "      <td>Lorenzo Insigne</td>\n",
       "      <td>1991-06-04</td>\n",
       "      <td>27</td>\n",
       "      <td>162.56</td>\n",
       "      <td>59.0</td>\n",
       "      <td>LW,ST</td>\n",
       "      <td>Italy</td>\n",
       "      <td>88</td>\n",
       "      <td>...</td>\n",
       "      <td>63+3</td>\n",
       "      <td>58+3</td>\n",
       "      <td>58+3</td>\n",
       "      <td>58+3</td>\n",
       "      <td>63+3</td>\n",
       "      <td>58+3</td>\n",
       "      <td>44+3</td>\n",
       "      <td>44+3</td>\n",
       "      <td>44+3</td>\n",
       "      <td>58+3</td>\n",
       "    </tr>\n",
       "    <tr>\n",
       "      <th>4</th>\n",
       "      <td>201024</td>\n",
       "      <td>K. Koulibaly</td>\n",
       "      <td>Kalidou Koulibaly</td>\n",
       "      <td>1991-06-20</td>\n",
       "      <td>27</td>\n",
       "      <td>187.96</td>\n",
       "      <td>88.9</td>\n",
       "      <td>CB</td>\n",
       "      <td>Senegal</td>\n",
       "      <td>88</td>\n",
       "      <td>...</td>\n",
       "      <td>73+3</td>\n",
       "      <td>77+3</td>\n",
       "      <td>77+3</td>\n",
       "      <td>77+3</td>\n",
       "      <td>73+3</td>\n",
       "      <td>76+3</td>\n",
       "      <td>85+3</td>\n",
       "      <td>85+3</td>\n",
       "      <td>85+3</td>\n",
       "      <td>76+3</td>\n",
       "    </tr>\n",
       "    <tr>\n",
       "      <th>...</th>\n",
       "      <td>...</td>\n",
       "      <td>...</td>\n",
       "      <td>...</td>\n",
       "      <td>...</td>\n",
       "      <td>...</td>\n",
       "      <td>...</td>\n",
       "      <td>...</td>\n",
       "      <td>...</td>\n",
       "      <td>...</td>\n",
       "      <td>...</td>\n",
       "      <td>...</td>\n",
       "      <td>...</td>\n",
       "      <td>...</td>\n",
       "      <td>...</td>\n",
       "      <td>...</td>\n",
       "      <td>...</td>\n",
       "      <td>...</td>\n",
       "      <td>...</td>\n",
       "      <td>...</td>\n",
       "      <td>...</td>\n",
       "      <td>...</td>\n",
       "    </tr>\n",
       "    <tr>\n",
       "      <th>17949</th>\n",
       "      <td>204322</td>\n",
       "      <td>R. McKenzie</td>\n",
       "      <td>Rory  McKenzie</td>\n",
       "      <td>1993-10-07</td>\n",
       "      <td>25</td>\n",
       "      <td>175.26</td>\n",
       "      <td>74.8</td>\n",
       "      <td>RM,CAM,CM</td>\n",
       "      <td>Scotland</td>\n",
       "      <td>67</td>\n",
       "      <td>...</td>\n",
       "      <td>53+2</td>\n",
       "      <td>52+2</td>\n",
       "      <td>52+2</td>\n",
       "      <td>52+2</td>\n",
       "      <td>53+2</td>\n",
       "      <td>50+2</td>\n",
       "      <td>46+2</td>\n",
       "      <td>46+2</td>\n",
       "      <td>46+2</td>\n",
       "      <td>50+2</td>\n",
       "    </tr>\n",
       "    <tr>\n",
       "      <th>17950</th>\n",
       "      <td>239762</td>\n",
       "      <td>M. Sipľak</td>\n",
       "      <td>Michal Sipľak</td>\n",
       "      <td>1996-02-02</td>\n",
       "      <td>23</td>\n",
       "      <td>182.88</td>\n",
       "      <td>79.8</td>\n",
       "      <td>LB</td>\n",
       "      <td>Slovakia</td>\n",
       "      <td>59</td>\n",
       "      <td>...</td>\n",
       "      <td>57+2</td>\n",
       "      <td>55+2</td>\n",
       "      <td>55+2</td>\n",
       "      <td>55+2</td>\n",
       "      <td>57+2</td>\n",
       "      <td>57+2</td>\n",
       "      <td>58+2</td>\n",
       "      <td>58+2</td>\n",
       "      <td>58+2</td>\n",
       "      <td>57+2</td>\n",
       "    </tr>\n",
       "    <tr>\n",
       "      <th>17951</th>\n",
       "      <td>235155</td>\n",
       "      <td>J. Bekkema</td>\n",
       "      <td>Jan Bekkema</td>\n",
       "      <td>1996-04-09</td>\n",
       "      <td>22</td>\n",
       "      <td>185.42</td>\n",
       "      <td>89.8</td>\n",
       "      <td>GK</td>\n",
       "      <td>Netherlands</td>\n",
       "      <td>59</td>\n",
       "      <td>...</td>\n",
       "      <td>NaN</td>\n",
       "      <td>NaN</td>\n",
       "      <td>NaN</td>\n",
       "      <td>NaN</td>\n",
       "      <td>NaN</td>\n",
       "      <td>NaN</td>\n",
       "      <td>NaN</td>\n",
       "      <td>NaN</td>\n",
       "      <td>NaN</td>\n",
       "      <td>NaN</td>\n",
       "    </tr>\n",
       "    <tr>\n",
       "      <th>17952</th>\n",
       "      <td>244883</td>\n",
       "      <td>A. Al Yami</td>\n",
       "      <td>Abdulrahman Al Yami</td>\n",
       "      <td>1997-06-19</td>\n",
       "      <td>21</td>\n",
       "      <td>175.26</td>\n",
       "      <td>64.9</td>\n",
       "      <td>ST,LM</td>\n",
       "      <td>Saudi Arabia</td>\n",
       "      <td>59</td>\n",
       "      <td>...</td>\n",
       "      <td>41+2</td>\n",
       "      <td>35+2</td>\n",
       "      <td>35+2</td>\n",
       "      <td>35+2</td>\n",
       "      <td>41+2</td>\n",
       "      <td>39+2</td>\n",
       "      <td>32+2</td>\n",
       "      <td>32+2</td>\n",
       "      <td>32+2</td>\n",
       "      <td>39+2</td>\n",
       "    </tr>\n",
       "    <tr>\n",
       "      <th>17953</th>\n",
       "      <td>247187</td>\n",
       "      <td>Júnior Brumado</td>\n",
       "      <td>José Francisco dos Santos Júnior</td>\n",
       "      <td>1999-05-15</td>\n",
       "      <td>19</td>\n",
       "      <td>190.50</td>\n",
       "      <td>79.8</td>\n",
       "      <td>ST</td>\n",
       "      <td>Brazil</td>\n",
       "      <td>59</td>\n",
       "      <td>...</td>\n",
       "      <td>41+2</td>\n",
       "      <td>40+2</td>\n",
       "      <td>40+2</td>\n",
       "      <td>40+2</td>\n",
       "      <td>41+2</td>\n",
       "      <td>40+2</td>\n",
       "      <td>40+2</td>\n",
       "      <td>40+2</td>\n",
       "      <td>40+2</td>\n",
       "      <td>40+2</td>\n",
       "    </tr>\n",
       "  </tbody>\n",
       "</table>\n",
       "<p>17954 rows × 92 columns</p>\n",
       "</div>"
      ],
      "text/plain": [
       "           id            name                         full_name  birth_date  \\\n",
       "0      158023        L. Messi    Lionel Andrés Messi Cuccittini  1987-06-24   \n",
       "1      190460      C. Eriksen      Christian  Dannemann Eriksen  1992-02-14   \n",
       "2      195864        P. Pogba                        Paul Pogba  1993-03-15   \n",
       "3      198219      L. Insigne                   Lorenzo Insigne  1991-06-04   \n",
       "4      201024    K. Koulibaly                 Kalidou Koulibaly  1991-06-20   \n",
       "...       ...             ...                               ...         ...   \n",
       "17949  204322     R. McKenzie                    Rory  McKenzie  1993-10-07   \n",
       "17950  239762       M. Sipľak                     Michal Sipľak  1996-02-02   \n",
       "17951  235155      J. Bekkema                       Jan Bekkema  1996-04-09   \n",
       "17952  244883      A. Al Yami               Abdulrahman Al Yami  1997-06-19   \n",
       "17953  247187  Júnior Brumado  José Francisco dos Santos Júnior  1999-05-15   \n",
       "\n",
       "       age  height_cm  weight_kgs  positions   nationality  overall_rating  \\\n",
       "0       31     170.18        72.1   CF,RW,ST     Argentina              94   \n",
       "1       27     154.94        76.2  CAM,RM,CM       Denmark              88   \n",
       "2       25     190.50        83.9     CM,CAM        France              88   \n",
       "3       27     162.56        59.0      LW,ST         Italy              88   \n",
       "4       27     187.96        88.9         CB       Senegal              88   \n",
       "...    ...        ...         ...        ...           ...             ...   \n",
       "17949   25     175.26        74.8  RM,CAM,CM      Scotland              67   \n",
       "17950   23     182.88        79.8         LB      Slovakia              59   \n",
       "17951   22     185.42        89.8         GK   Netherlands              59   \n",
       "17952   21     175.26        64.9      ST,LM  Saudi Arabia              59   \n",
       "17953   19     190.50        79.8         ST        Brazil              59   \n",
       "\n",
       "       ...   LWB   LDM   CDM   RDM   RWB    LB   LCB    CB   RCB    RB  \n",
       "0      ...  64+2  61+2  61+2  61+2  64+2  59+2  48+2  48+2  48+2  59+2  \n",
       "1      ...  71+3  71+3  71+3  71+3  71+3  66+3  57+3  57+3  57+3  66+3  \n",
       "2      ...  76+3  77+3  77+3  77+3  76+3  74+3  72+3  72+3  72+3  74+3  \n",
       "3      ...  63+3  58+3  58+3  58+3  63+3  58+3  44+3  44+3  44+3  58+3  \n",
       "4      ...  73+3  77+3  77+3  77+3  73+3  76+3  85+3  85+3  85+3  76+3  \n",
       "...    ...   ...   ...   ...   ...   ...   ...   ...   ...   ...   ...  \n",
       "17949  ...  53+2  52+2  52+2  52+2  53+2  50+2  46+2  46+2  46+2  50+2  \n",
       "17950  ...  57+2  55+2  55+2  55+2  57+2  57+2  58+2  58+2  58+2  57+2  \n",
       "17951  ...   NaN   NaN   NaN   NaN   NaN   NaN   NaN   NaN   NaN   NaN  \n",
       "17952  ...  41+2  35+2  35+2  35+2  41+2  39+2  32+2  32+2  32+2  39+2  \n",
       "17953  ...  41+2  40+2  40+2  40+2  41+2  40+2  40+2  40+2  40+2  40+2  \n",
       "\n",
       "[17954 rows x 92 columns]"
      ]
     },
     "execution_count": 85,
     "metadata": {},
     "output_type": "execute_result"
    }
   ],
   "source": [
    "df1 = pd.read_csv(\"C:/Users/acer/fifa_cleaned.csv\")\n",
    "df1"
   ]
  },
  {
   "cell_type": "code",
   "execution_count": 92,
   "id": "5faedcf6",
   "metadata": {},
   "outputs": [
    {
     "name": "stdout",
     "output_type": "stream",
     "text": [
      "       id          name                       full_name  birth_date  age  \\\n",
      "0  158023      L. Messi  Lionel Andrés Messi Cuccittini  1987-06-24   31   \n",
      "1  190460    C. Eriksen    Christian  Dannemann Eriksen  1992-02-14   27   \n",
      "2  195864      P. Pogba                      Paul Pogba  1993-03-15   25   \n",
      "3  198219    L. Insigne                 Lorenzo Insigne  1991-06-04   27   \n",
      "4  201024  K. Koulibaly               Kalidou Koulibaly  1991-06-20   27   \n",
      "\n",
      "   height_cm  weight_kgs  positions nationality  overall_rating  ...   LWB  \\\n",
      "0     170.18        72.1   CF,RW,ST   Argentina              94  ...  64+2   \n",
      "1     154.94        76.2  CAM,RM,CM     Denmark              88  ...  71+3   \n",
      "2     190.50        83.9     CM,CAM      France              88  ...  76+3   \n",
      "3     162.56        59.0      LW,ST       Italy              88  ...  63+3   \n",
      "4     187.96        88.9         CB     Senegal              88  ...  73+3   \n",
      "\n",
      "    LDM   CDM   RDM   RWB    LB   LCB    CB   RCB    RB  \n",
      "0  61+2  61+2  61+2  64+2  59+2  48+2  48+2  48+2  59+2  \n",
      "1  71+3  71+3  71+3  71+3  66+3  57+3  57+3  57+3  66+3  \n",
      "2  77+3  77+3  77+3  76+3  74+3  72+3  72+3  72+3  74+3  \n",
      "3  58+3  58+3  58+3  63+3  58+3  44+3  44+3  44+3  58+3  \n",
      "4  77+3  77+3  77+3  73+3  76+3  85+3  85+3  85+3  76+3  \n",
      "\n",
      "[5 rows x 92 columns]\n",
      "(17954, 92)\n",
      "id             int64\n",
      "name          object\n",
      "full_name     object\n",
      "birth_date    object\n",
      "age            int64\n",
      "               ...  \n",
      "LB            object\n",
      "LCB           object\n",
      "CB            object\n",
      "RCB           object\n",
      "RB            object\n",
      "Length: 92, dtype: object\n"
     ]
    },
    {
     "data": {
      "image/png": "[encoded data removed]",
      "text/plain": [
       "<Figure size 432x288 with 1 Axes>"
      ]
     },
     "metadata": {
      "needs_background": "light"
     },
     "output_type": "display_data"
    },
    {
     "data": {
      "image/png": "[encoded data removed]",
      "text/plain": [
       "<Figure size 432x288 with 1 Axes>"
      ]
     },
     "metadata": {
      "needs_background": "light"
     },
     "output_type": "display_data"
    },
    {
     "data": {
      "image/png": "[encoded data removed]",
      "text/plain": [
       "<Figure size 432x288 with 1 Axes>"
      ]
     },
     "metadata": {
      "needs_background": "light"
     },
     "output_type": "display_data"
    },
    {
     "data": {
      "image/png": "[encoded data removed]",
      "text/plain": [
       "<Figure size 432x288 with 2 Axes>"
      ]
     },
     "metadata": {
      "needs_background": "light"
     },
     "output_type": "display_data"
    }
   ],
   "source": [
    "import matplotlib.pyplot as plt\n",
    "import seaborn as sns\n",
    "\n",
    "\n",
    "print(df1.head())\n",
    "\n",
    "print(df1.shape)\n",
    "\n",
    "print(df1.dtypes)\n",
    "\n",
    "\n",
    "# Check the distribution of a numerical column using a histogram\n",
    "sns.histplot(df1['age'])\n",
    "plt.title(\"Distribution of Age\")\n",
    "plt.xlabel(\"age\")\n",
    "plt.show()\n",
    "\n",
    "# Check the relationship between two numerical columns using a scatter plot\n",
    "sns.scatterplot(data=df1, x='overall_rating', y='agility')\n",
    "plt.title(\"Relationship between Overall Rating and Value\")\n",
    "plt.xlabel(\"Overall Rating\")\n",
    "plt.ylabel(\"Value (in Millions)\")\n",
    "plt.show()\n",
    "\n",
    "# Check the relationship between a categorical and a numerical column using a box plot\n",
    "sns.boxplot(data=df1, x='preferred_foot', y='overall_rating')\n",
    "plt.title(\"Relationship between Preferred Foot and Overall Rating\")\n",
    "plt.xlabel(\"Preferred Foot\")\n",
    "plt.ylabel(\"Overall Rating\")\n",
    "plt.show()\n",
    "\n",
    "# Check the relationship between two categorical columns using a heat map\n",
    "cross_tab = pd.crosstab(df1['nationality'], df1['club_team'])\n",
    "sns.heatmap(cross_tab, cmap='Blues')\n",
    "plt.title(\"Relationship between Nationality and Club\")\n",
    "plt.xlabel(\"Club\")\n",
    "plt.ylabel(\"Nationality\")\n",
    "plt.show()"
   ]
  },
  {
   "cell_type": "code",
   "execution_count": 70,
   "id": "0e7d6940",
   "metadata": {
    "scrolled": true
   },
   "outputs": [
    {
     "data": {
      "text/plain": [
       "id               0\n",
       "name             0\n",
       "full_name        0\n",
       "birth_date       0\n",
       "age              0\n",
       "              ... \n",
       "LB            2065\n",
       "LCB           2065\n",
       "CB            2065\n",
       "RCB           2065\n",
       "RB            2065\n",
       "Length: 92, dtype: int64"
      ]
     },
     "execution_count": 70,
     "metadata": {},
     "output_type": "execute_result"
    }
   ],
   "source": [
    "df1.isnull().sum()"
   ]
  },
  {
   "cell_type": "code",
   "execution_count": 71,
   "id": "4225dcae",
   "metadata": {},
   "outputs": [
    {
     "data": {
      "text/plain": [
       "Index(['id', 'name', 'full_name', 'birth_date', 'age', 'height_cm',\n",
       "       'weight_kgs', 'positions', 'nationality', 'overall_rating', 'potential',\n",
       "       'value_euro', 'wage_euro', 'preferred_foot',\n",
       "       'international_reputation(1-5)', 'weak_foot(1-5)', 'skill_moves(1-5)',\n",
       "       'work_rate', 'body_type', 'release_clause_euro', 'club_team',\n",
       "       'club_rating', 'club_position', 'club_jersey_number', 'club_join_date',\n",
       "       'contract_end_year', 'national_team', 'national_rating',\n",
       "       'national_team_position', 'national_jersey_number', 'crossing',\n",
       "       'finishing', 'heading_accuracy', 'short_passing', 'volleys',\n",
       "       'dribbling', 'curve', 'freekick_accuracy', 'long_passing',\n",
       "       'ball_control', 'acceleration', 'sprint_speed', 'agility', 'reactions',\n",
       "       'balance', 'shot_power', 'jumping', 'stamina', 'strength', 'long_shots',\n",
       "       'aggression', 'interceptions', 'positioning', 'vision', 'penalties',\n",
       "       'composure', 'marking', 'standing_tackle', 'sliding_tackle',\n",
       "       'GK_diving', 'GK_handling', 'GK_kicking', 'GK_positioning',\n",
       "       'GK_reflexes', 'tags', 'traits', 'LS', 'ST', 'RS', 'LW', 'LF', 'CF',\n",
       "       'RF', 'RW', 'LAM', 'CAM', 'RAM', 'LM', 'LCM', 'CM', 'RCM', 'RM', 'LWB',\n",
       "       'LDM', 'CDM', 'RDM', 'RWB', 'LB', 'LCB', 'CB', 'RCB', 'RB'],\n",
       "      dtype='object')"
      ]
     },
     "execution_count": 71,
     "metadata": {},
     "output_type": "execute_result"
    }
   ],
   "source": [
    "df1.columns"
   ]
  },
  {
   "cell_type": "code",
   "execution_count": 72,
   "id": "855b4523",
   "metadata": {},
   "outputs": [],
   "source": [
    "df1 = df1.drop(['id', 'name', 'full_name', 'birth_date'],axis = 1)\n"
   ]
  },
  {
   "cell_type": "code",
   "execution_count": 73,
   "id": "88f972b1",
   "metadata": {},
   "outputs": [
    {
     "name": "stdout",
     "output_type": "stream",
     "text": [
      "<class 'pandas.core.frame.DataFrame'>\n",
      "RangeIndex: 17954 entries, 0 to 17953\n",
      "Data columns (total 88 columns):\n",
      " #   Column                         Non-Null Count  Dtype  \n",
      "---  ------                         --------------  -----  \n",
      " 0   age                            17954 non-null  int64  \n",
      " 1   height_cm                      17954 non-null  float64\n",
      " 2   weight_kgs                     17954 non-null  float64\n",
      " 3   positions                      17954 non-null  object \n",
      " 4   nationality                    17954 non-null  object \n",
      " 5   overall_rating                 17954 non-null  int64  \n",
      " 6   potential                      17954 non-null  int64  \n",
      " 7   value_euro                     17699 non-null  float64\n",
      " 8   wage_euro                      17708 non-null  float64\n",
      " 9   preferred_foot                 17954 non-null  object \n",
      " 10  international_reputation(1-5)  17954 non-null  int64  \n",
      " 11  weak_foot(1-5)                 17954 non-null  int64  \n",
      " 12  skill_moves(1-5)               17954 non-null  int64  \n",
      " 13  work_rate                      17954 non-null  object \n",
      " 14  body_type                      17954 non-null  object \n",
      " 15  release_clause_euro            16117 non-null  float64\n",
      " 16  club_team                      17940 non-null  object \n",
      " 17  club_rating                    17940 non-null  float64\n",
      " 18  club_position                  17940 non-null  object \n",
      " 19  club_jersey_number             17940 non-null  float64\n",
      " 20  club_join_date                 16018 non-null  object \n",
      " 21  contract_end_year              17593 non-null  object \n",
      " 22  national_team                  857 non-null    object \n",
      " 23  national_rating                857 non-null    float64\n",
      " 24  national_team_position         857 non-null    object \n",
      " 25  national_jersey_number         857 non-null    float64\n",
      " 26  crossing                       17954 non-null  int64  \n",
      " 27  finishing                      17954 non-null  int64  \n",
      " 28  heading_accuracy               17954 non-null  int64  \n",
      " 29  short_passing                  17954 non-null  int64  \n",
      " 30  volleys                        17954 non-null  int64  \n",
      " 31  dribbling                      17954 non-null  int64  \n",
      " 32  curve                          17954 non-null  int64  \n",
      " 33  freekick_accuracy              17954 non-null  int64  \n",
      " 34  long_passing                   17954 non-null  int64  \n",
      " 35  ball_control                   17954 non-null  int64  \n",
      " 36  acceleration                   17954 non-null  int64  \n",
      " 37  sprint_speed                   17954 non-null  int64  \n",
      " 38  agility                        17954 non-null  int64  \n",
      " 39  reactions                      17954 non-null  int64  \n",
      " 40  balance                        17954 non-null  int64  \n",
      " 41  shot_power                     17954 non-null  int64  \n",
      " 42  jumping                        17954 non-null  int64  \n",
      " 43  stamina                        17954 non-null  int64  \n",
      " 44  strength                       17954 non-null  int64  \n",
      " 45  long_shots                     17954 non-null  int64  \n",
      " 46  aggression                     17954 non-null  int64  \n",
      " 47  interceptions                  17954 non-null  int64  \n",
      " 48  positioning                    17954 non-null  int64  \n",
      " 49  vision                         17954 non-null  int64  \n",
      " 50  penalties                      17954 non-null  int64  \n",
      " 51  composure                      17954 non-null  int64  \n",
      " 52  marking                        17954 non-null  int64  \n",
      " 53  standing_tackle                17954 non-null  int64  \n",
      " 54  sliding_tackle                 17954 non-null  int64  \n",
      " 55  GK_diving                      17954 non-null  int64  \n",
      " 56  GK_handling                    17954 non-null  int64  \n",
      " 57  GK_kicking                     17954 non-null  int64  \n",
      " 58  GK_positioning                 17954 non-null  int64  \n",
      " 59  GK_reflexes                    17954 non-null  int64  \n",
      " 60  tags                           1417 non-null   object \n",
      " 61  traits                         8137 non-null   object \n",
      " 62  LS                             15889 non-null  object \n",
      " 63  ST                             15889 non-null  object \n",
      " 64  RS                             15889 non-null  object \n",
      " 65  LW                             15889 non-null  object \n",
      " 66  LF                             15889 non-null  object \n",
      " 67  CF                             15889 non-null  object \n",
      " 68  RF                             15889 non-null  object \n",
      " 69  RW                             15889 non-null  object \n",
      " 70  LAM                            15889 non-null  object \n",
      " 71  CAM                            15889 non-null  object \n",
      " 72  RAM                            15889 non-null  object \n",
      " 73  LM                             15889 non-null  object \n",
      " 74  LCM                            15889 non-null  object \n",
      " 75  CM                             15889 non-null  object \n",
      " 76  RCM                            15889 non-null  object \n",
      " 77  RM                             15889 non-null  object \n",
      " 78  LWB                            15889 non-null  object \n",
      " 79  LDM                            15889 non-null  object \n",
      " 80  CDM                            15889 non-null  object \n",
      " 81  RDM                            15889 non-null  object \n",
      " 82  RWB                            15889 non-null  object \n",
      " 83  LB                             15889 non-null  object \n",
      " 84  LCB                            15889 non-null  object \n",
      " 85  CB                             15889 non-null  object \n",
      " 86  RCB                            15889 non-null  object \n",
      " 87  RB                             15889 non-null  object \n",
      "dtypes: float64(9), int64(40), object(39)\n",
      "memory usage: 12.1+ MB\n"
     ]
    }
   ],
   "source": [
    "df1.info()"
   ]
  },
  {
   "cell_type": "code",
   "execution_count": 74,
   "id": "dd006084",
   "metadata": {},
   "outputs": [],
   "source": [
    "df1.fillna(0, inplace=True)"
   ]
  },
  {
   "cell_type": "code",
   "execution_count": 75,
   "id": "739913e8",
   "metadata": {},
   "outputs": [],
   "source": [
    "for column in df1.columns:\n",
    "    if df1[column].dtype == 'object':\n",
    "        le = LabelEncoder()\n",
    "        df1[column] = le.fit_transform(df1[column].astype(str))"
   ]
  },
  {
   "cell_type": "code",
   "execution_count": 76,
   "id": "3de8ed35",
   "metadata": {},
   "outputs": [],
   "source": [
    "import numpy as np\n",
    "\n",
    "corr_matrix = df1.corr().abs()\n",
    "\n",
    "mask = np.triu(np.ones_like(corr_matrix, dtype=bool))\n",
    "\n",
    "upper_triangle = corr_matrix.where(mask)\n",
    "\n",
    "to_drop = [column for column in upper_triangle.columns if any(upper_triangle[column] > 0.6)]\n",
    "\n",
    "df1.drop(to_drop, axis=1, inplace=True)"
   ]
  },
  {
   "cell_type": "code",
   "execution_count": 77,
   "id": "9491f7df",
   "metadata": {},
   "outputs": [],
   "source": [
    "variance = df1.var()\n",
    "\n",
    "to_drop = [column for column in variance.index if variance[column] < 0.2]\n",
    "\n",
    "df1.drop(to_drop, axis=1, inplace=True)\n"
   ]
  }
 ],
 "metadata": {
  "kernelspec": {
   "display_name": "Python 3",
   "language": "python",
   "name": "python3"
  },
  "language_info": {
   "codemirror_mode": {
    "name": "ipython",
    "version": 3
   },
   "file_extension": ".py",
   "mimetype": "text/x-python",
   "name": "python",
   "nbconvert_exporter": "python",
   "pygments_lexer": "ipython3",
   "version": "3.8.8"
  }
 },
 "nbformat": 4,
 "nbformat_minor": 5
}
